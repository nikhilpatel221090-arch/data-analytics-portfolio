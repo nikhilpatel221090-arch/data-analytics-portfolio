{
 "cells": [
  {
   "cell_type": "markdown",
   "id": "7e716331",
   "metadata": {},
   "source": [
    "# 📊 Automation Workflow Project\n",
    "This notebook demonstrates data analysis, report automation, and dashboard visualization for the Automation Workflow Project."
   ]
  },
  {
   "cell_type": "code",
   "execution_count": null,
   "id": "604198c1",
   "metadata": {},
   "outputs": [],
   "source": [
    "\n",
    "import pandas as pd\n",
    "import matplotlib.pyplot as plt\n",
    "from textwrap import dedent\n",
    "\n",
    "# Enable dark background style for charts\n",
    "plt.style.use(\"dark_background\")\n"
   ]
  },
  {
   "cell_type": "code",
   "execution_count": null,
   "id": "6f81817d",
   "metadata": {},
   "outputs": [],
   "source": [
    "\n",
    "# Load dataset\n",
    "df = pd.read_csv(\"../data/weekly_sales_rich.csv\")\n",
    "df[\"Date\"] = pd.to_datetime(df[\"Date\"], errors=\"coerce\")\n",
    "df.head()\n"
   ]
  },
  {
   "cell_type": "code",
   "execution_count": null,
   "id": "3d2d2840",
   "metadata": {},
   "outputs": [],
   "source": [
    "\n",
    "# Aggregate KPIs\n",
    "total_sales = df[\"Sales\"].sum()\n",
    "total_profit = df[\"Profit\"].sum()\n",
    "profit_margin = round(total_profit / total_sales, 2) if total_sales > 0 else 0\n",
    "order_count = df[\"OrderID\"].nunique()\n",
    "customer_count = df[\"CustomerID\"].nunique()\n",
    "\n",
    "kpis = {\n",
    "    \"Total Sales\": total_sales,\n",
    "    \"Total Profit\": total_profit,\n",
    "    \"Profit Margin\": profit_margin,\n",
    "    \"Orders\": order_count,\n",
    "    \"Customers\": customer_count\n",
    "}\n",
    "kpis\n"
   ]
  },
  {
   "cell_type": "code",
   "execution_count": null,
   "id": "8945f01c",
   "metadata": {},
   "outputs": [],
   "source": [
    "\n",
    "# Sales Trend Over Time\n",
    "by_date = df.groupby(\"Date\").agg(Sales=(\"Sales\", \"sum\")).reset_index()\n",
    "plt.figure(figsize=(10,5))\n",
    "plt.plot(by_date[\"Date\"], by_date[\"Sales\"], marker=\"o\", color=\"deepskyblue\")\n",
    "plt.title(\"Sales Trend Over Time\")\n",
    "plt.xlabel(\"Date\")\n",
    "plt.ylabel(\"Sales\")\n",
    "plt.show()\n"
   ]
  },
  {
   "cell_type": "code",
   "execution_count": null,
   "id": "0f23c9ed",
   "metadata": {},
   "outputs": [],
   "source": [
    "\n",
    "# Sales by Region\n",
    "by_region = df.groupby(\"Region\").agg(Sales=(\"Sales\", \"sum\")).reset_index()\n",
    "plt.figure(figsize=(6,4))\n",
    "plt.bar(by_region[\"Region\"], by_region[\"Sales\"], color=\"orange\")\n",
    "plt.title(\"Sales by Region\")\n",
    "plt.show()\n"
   ]
  },
  {
   "cell_type": "code",
   "execution_count": null,
   "id": "548b7484",
   "metadata": {},
   "outputs": [],
   "source": [
    "\n",
    "# Sales by Segment\n",
    "by_segment = df.groupby(\"Segment\").agg(Sales=(\"Sales\", \"sum\")).reset_index()\n",
    "plt.figure(figsize=(5,5))\n",
    "plt.pie(by_segment[\"Sales\"], labels=by_segment[\"Segment\"], autopct=\"%1.1f%%\")\n",
    "plt.title(\"Sales by Segment\")\n",
    "plt.show()\n"
   ]
  },
  {
   "cell_type": "code",
   "execution_count": null,
   "id": "6ecfa27c",
   "metadata": {},
   "outputs": [],
   "source": [
    "\n",
    "# Top 5 Products by Sales\n",
    "top_products = (\n",
    "    df.groupby(\"Product\").agg(Sales=(\"Sales\", \"sum\"))\n",
    "    .reset_index()\n",
    "    .sort_values(\"Sales\", ascending=False)\n",
    "    .head(5)\n",
    ")\n",
    "plt.figure(figsize=(7,4))\n",
    "plt.bar(top_products[\"Product\"], top_products[\"Sales\"], color=\"teal\")\n",
    "plt.title(\"Top 5 Products\")\n",
    "plt.show()\n"
   ]
  },
  {
   "cell_type": "code",
   "execution_count": null,
   "id": "a198d9f3",
   "metadata": {},
   "outputs": [],
   "source": [
    "\n",
    "# Top 5 Customers by Sales\n",
    "top_customers = (\n",
    "    df.groupby(\"CustomerID\").agg(Sales=(\"Sales\", \"sum\"))\n",
    "    .reset_index()\n",
    "    .sort_values(\"Sales\", ascending=False)\n",
    "    .head(5)\n",
    ")\n",
    "plt.figure(figsize=(7,4))\n",
    "plt.bar(top_customers[\"CustomerID\"], top_customers[\"Sales\"], color=\"lime\")\n",
    "plt.title(\"Top 5 Customers\")\n",
    "plt.show()\n"
   ]
  },
  {
   "cell_type": "code",
   "execution_count": null,
   "id": "eab5a5f3",
   "metadata": {},
   "outputs": [],
   "source": [
    "\n",
    "# Fake AI-style Report Generator (no API key needed)\n",
    "region_top = by_region.sort_values(\"Sales\", ascending=False).iloc[0]\n",
    "seg_top = by_segment.sort_values(\"Sales\", ascending=False).iloc[0]\n",
    "prod_top = top_products.iloc[0]\n",
    "cust_top = top_customers.iloc[0]\n",
    "\n",
    "report = dedent(f\"\"\"\n",
    "=== Weekly Sales Report ===\n",
    "\n",
    "This week, total sales reached ₹{kpis['Total Sales']:,} with a profit of ₹{kpis['Total Profit']:,}, \n",
    "representing a profit margin of {kpis['Profit Margin']*100:.1f}%. Across {kpis['Orders']} orders, \n",
    "we served {kpis['Customers']} unique customers.\n",
    "\n",
    "Regionally, {region_top['Region']} led performance with sales of ₹{region_top['Sales']:,}. \n",
    "Segment-wise, {seg_top['Segment']} was the top-performing customer group.\n",
    "\n",
    "Product analysis shows {prod_top['Product']} generated the highest sales (₹{prod_top['Sales']:,}), \n",
    "while {cust_top['CustomerID']} emerged as the top customer.\n",
    "\n",
    "📌 Recommendations:\n",
    "1. Increase marketing focus in {region_top['Region']} to leverage momentum.\n",
    "2. Explore bundling strategies around {prod_top['Product']} to maximize profit.\n",
    "\n",
    "--- End of Report ---\n",
    "\"\"\")\n",
    "print(report)\n"
   ]
  }
 ],
 "metadata": {},
 "nbformat": 4,
 "nbformat_minor": 5
}
